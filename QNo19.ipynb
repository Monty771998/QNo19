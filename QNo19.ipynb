{
 "cells": [
  {
   "cell_type": "code",
   "execution_count": 10,
   "id": "1ffa8826-be88-4bd3-a3b5-df286fb54f72",
   "metadata": {},
   "outputs": [],
   "source": [
    "l=[11,48,68,48,42,95,74,23,10,54,15]\n",
    "def calculate_mean(l):\n",
    "    total=0\n",
    "    for i in l:\n",
    "        total+=i\n",
    "        count = len(l)\n",
    "        mean = total / count\n",
    "    return mean"
   ]
  },
  {
   "cell_type": "code",
   "execution_count": 11,
   "id": "0c276189-c387-4f6f-9860-698f08724191",
   "metadata": {},
   "outputs": [],
   "source": [
    "m=calculate_mean(l)"
   ]
  },
  {
   "cell_type": "code",
   "execution_count": 12,
   "id": "f9b0f9e4-1cf2-423a-91c7-6bdf4cfac2e6",
   "metadata": {},
   "outputs": [
    {
     "name": "stdout",
     "output_type": "stream",
     "text": [
      "mean of given list is :  44.36363636363637\n"
     ]
    }
   ],
   "source": [
    "print(\"mean of given list is : \" ,m)"
   ]
  },
  {
   "cell_type": "code",
   "execution_count": null,
   "id": "c59d6588-ce61-4562-a22b-d5c97e23add5",
   "metadata": {},
   "outputs": [],
   "source": []
  }
 ],
 "metadata": {
  "kernelspec": {
   "display_name": "Python 3 (ipykernel)",
   "language": "python",
   "name": "python3"
  },
  "language_info": {
   "codemirror_mode": {
    "name": "ipython",
    "version": 3
   },
   "file_extension": ".py",
   "mimetype": "text/x-python",
   "name": "python",
   "nbconvert_exporter": "python",
   "pygments_lexer": "ipython3",
   "version": "3.10.8"
  }
 },
 "nbformat": 4,
 "nbformat_minor": 5
}
